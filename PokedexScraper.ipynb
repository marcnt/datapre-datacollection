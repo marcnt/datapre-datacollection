{
 "cells": [
  {
   "cell_type": "markdown",
   "metadata": {},
   "source": [
    "# Web Scraping 101: Extracting Pokemon Info"
   ]
  },
  {
   "cell_type": "markdown",
   "metadata": {},
   "source": [
    "The previous notebook demonstrated how to gather data on the Generation I Pokemon using `requests` and `bs4`."
   ]
  },
  {
   "cell_type": "markdown",
   "metadata": {},
   "source": [
    "### Import libraries"
   ]
  },
  {
   "cell_type": "code",
   "execution_count": null,
   "metadata": {},
   "outputs": [],
   "source": [
    "import requests\n",
    "from bs4 import BeautifulSoup\n",
    "\n",
    "# We want to pretty-print the JSON file for readability\n",
    "import json"
   ]
  },
  {
   "cell_type": "markdown",
   "metadata": {},
   "source": [
    "### Get the contents of the page to be scraped"
   ]
  },
  {
   "cell_type": "code",
   "execution_count": null,
   "metadata": {},
   "outputs": [],
   "source": [
    "# Define the URL from which to gather data\n",
    "\n",
    "HOST = \"https://bulbapedia.bulbagarden.net\"\n",
    "PATH = \"/wiki/List_of_Pok%C3%A9mon_by_National_Pok%C3%A9dex_number\"\n",
    "URL = HOST + PATH\n",
    "data = requests.get(URL)"
   ]
  },
  {
   "cell_type": "markdown",
   "metadata": {},
   "source": [
    "### Sanity Check \\#1\n",
    "\n",
    "Print the response HTML. If the page somehow returned an error, we handle it specially by telling the reader."
   ]
  },
  {
   "cell_type": "code",
   "execution_count": null,
   "metadata": {},
   "outputs": [],
   "source": [
    "if data.status_code == 200:\n",
    "    print(data.content)\n",
    "else:\n",
    "    print('Something went wrong:')\n",
    "    print('Status code: ' + str(data.status_code))\n",
    "    print('Response:')\n",
    "    print(data.content)"
   ]
  },
  {
   "cell_type": "markdown",
   "metadata": {},
   "source": [
    "### Create the parser and parse HTML"
   ]
  },
  {
   "cell_type": "code",
   "execution_count": null,
   "metadata": {},
   "outputs": [],
   "source": [
    "soup = BeautifulSoup(data.content, 'html.parser')"
   ]
  },
  {
   "cell_type": "markdown",
   "metadata": {},
   "source": [
    "### Find the Pokedex tables"
   ]
  },
  {
   "cell_type": "code",
   "execution_count": null,
   "metadata": {},
   "outputs": [],
   "source": [
    "content = soup.find(id='mw-content-text')\n",
    "\n",
    "# Select all tables that follow an h3\n",
    "# The reasoning is that the tables on the page follow headers\n",
    "# indicating which generation those Pokemon belong\n",
    "all_pokemon = content.select('h3 + table')"
   ]
  },
  {
   "cell_type": "markdown",
   "metadata": {},
   "source": [
    "### Sanity Check \\#2\n",
    "\n",
    "Ensure that there are eight generations of Pokemon."
   ]
  },
  {
   "cell_type": "code",
   "execution_count": null,
   "metadata": {},
   "outputs": [],
   "source": [
    "len(all_pokemon)"
   ]
  },
  {
   "cell_type": "markdown",
   "metadata": {},
   "source": [
    "### Cleaning the list\n",
    "\n",
    "There are extra features we need to remove for easy cleaning. The returned array contains garbage entries like `'\\n'` that need to be removed, as well as the header row that we do not need. While this is not really necessary and such entries can be skipped, it is important to highlight data cleaning to ease data collection."
   ]
  },
  {
   "cell_type": "code",
   "execution_count": null,
   "metadata": {},
   "outputs": [],
   "source": [
    "# Get the second generation Pokemon\n",
    "gen = all_pokemon[1]\n",
    "gen.contents"
   ]
  },
  {
   "cell_type": "code",
   "execution_count": null,
   "metadata": {},
   "outputs": [],
   "source": [
    "# Clear all '\\n' from the list. It would be better to use functions like isspace(),\n",
    "# but this will do.\n",
    "gen_cleaned = list(filter(lambda x: x != '\\n', gen.contents))\n",
    "# Remove the first index; this is the header row which should not be included\n",
    "gen_cleaned = gen_cleaned[1:]\n",
    "gen_cleaned"
   ]
  },
  {
   "cell_type": "markdown",
   "metadata": {},
   "source": [
    "### Reading the Pokemon data"
   ]
  },
  {
   "cell_type": "markdown",
   "metadata": {},
   "source": [
    "Now, we can extract an entry from the table, which contains the *kdex*, *ndex* and name of the Pokemon, as well as its types and a link to its Wiki entry."
   ]
  },
  {
   "cell_type": "code",
   "execution_count": null,
   "metadata": {},
   "outputs": [],
   "source": [
    "sample_pokemon = list(filter(lambda x: x != '\\n', gen_cleaned[0].contents))\n",
    "sample_pokemon"
   ]
  },
  {
   "cell_type": "markdown",
   "metadata": {},
   "source": [
    "We can extract the required information into variables to be put into an array."
   ]
  },
  {
   "cell_type": "code",
   "execution_count": null,
   "metadata": {},
   "outputs": [],
   "source": [
    "sample_kdex = sample_pokemon[0].text.strip()\n",
    "sample_ndex = sample_pokemon[1].text.strip()\n",
    "sample_name = sample_pokemon[3].text.strip()\n",
    "sample_types = []\n",
    "for i in range(4, len(sample_pokemon)):\n",
    "    sample_types.append(sample_pokemon[i].text.strip())\n",
    "sample_url = HOST + sample_pokemon[3].find('a')['href']\n",
    "sample_url"
   ]
  },
  {
   "cell_type": "markdown",
   "metadata": {},
   "source": [
    "### Putting it all together\n",
    "\n",
    "Now we can put everything into a function. Actually two. The first function reads a single Pokemon entry while the second function parses a table and returns all the Pokemon in that table. In effect, it returns all the Pokemon within a generation."
   ]
  },
  {
   "cell_type": "code",
   "execution_count": null,
   "metadata": {},
   "outputs": [],
   "source": [
    "# Reads a single Pokemon from a table row 'entry'\n",
    "def get_pokemon(entry):\n",
    "    pokemon = list(filter(lambda x: x != '\\n', entry.contents))\n",
    "    kdex = pokemon[0].text.strip()\n",
    "    ndex = pokemon[1].text.strip()\n",
    "    name = pokemon[3].text.strip()\n",
    "    types = []\n",
    "    for i in range(4, len(pokemon)):\n",
    "        types.append(pokemon[i].text.strip())\n",
    "    url = HOST + pokemon[3].find('a')['href']\n",
    "    return {\n",
    "        'kdex': kdex,\n",
    "        'ndex': ndex,\n",
    "        'name': name,\n",
    "        'types': types,\n",
    "        'url': url\n",
    "    }\n",
    "\n",
    "# Reads all Pokemon from a table 'contents'\n",
    "def get_pokemon_list(contents):\n",
    "    contents_cleaned = list(filter(lambda x: x != '\\n', contents.contents))\n",
    "    # Remove the first index; this is the header row which should not be included\n",
    "    contents_cleaned = contents_cleaned[1:]\n",
    "    \n",
    "    return [ get_pokemon(entry) for entry in contents_cleaned ]"
   ]
  },
  {
   "cell_type": "markdown",
   "metadata": {},
   "source": [
    "Let's try this function:"
   ]
  },
  {
   "cell_type": "code",
   "execution_count": null,
   "metadata": {},
   "outputs": [],
   "source": [
    "sample_list = get_pokemon_list(all_pokemon[0])\n",
    "sample_list"
   ]
  },
  {
   "cell_type": "markdown",
   "metadata": {},
   "source": [
    "### Saving to JSON\n",
    "\n",
    "Now we are ready to write everything into a JSON file. All we need to do is to loop over every table (yes, including Gen I) and compile all Pokemon into a list. Note that there are duplicate entries for some reason, but it will do for now."
   ]
  },
  {
   "cell_type": "code",
   "execution_count": null,
   "metadata": {},
   "outputs": [],
   "source": [
    "poke_json = []\n",
    "\n",
    "for pokemon_table in all_pokemon:\n",
    "    poke_json += get_pokemon_list(pokemon_table)"
   ]
  },
  {
   "cell_type": "code",
   "execution_count": null,
   "metadata": {},
   "outputs": [],
   "source": [
    "len(poke_json)"
   ]
  },
  {
   "cell_type": "code",
   "execution_count": null,
   "metadata": {},
   "outputs": [],
   "source": [
    "with open('pokemon.json', 'w') as f:\n",
    "    json.dump(poke_json, f, indent=4)"
   ]
  }
 ],
 "metadata": {
  "kernelspec": {
   "display_name": "Python 3",
   "language": "python",
   "name": "python3"
  },
  "language_info": {
   "codemirror_mode": {
    "name": "ipython",
    "version": 3
   },
   "file_extension": ".py",
   "mimetype": "text/x-python",
   "name": "python",
   "nbconvert_exporter": "python",
   "pygments_lexer": "ipython3",
   "version": "3.8.5"
  }
 },
 "nbformat": 4,
 "nbformat_minor": 4
}
